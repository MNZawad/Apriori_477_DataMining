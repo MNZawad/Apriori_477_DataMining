{
  "nbformat": 4,
  "nbformat_minor": 0,
  "metadata": {
    "colab": {
      "provenance": []
    },
    "kernelspec": {
      "name": "python3",
      "display_name": "Python 3"
    },
    "language_info": {
      "name": "python"
    }
  },
  "cells": [
    {
      "cell_type": "code",
      "metadata": {
        "id": "j2-nDn7M4Hch",
        "colab": {
          "base_uri": "https://localhost:8080/"
        },
        "outputId": "055b2574-d9be-4ba4-878a-ba9a16d8c61f"
      },
      "source": [
        "pip install mlxtend --upgrade --no-deps"
      ],
      "execution_count": null,
      "outputs": [
        {
          "output_type": "stream",
          "text": [
            "Requirement already up-to-date: mlxtend in /usr/local/lib/python3.7/dist-packages (0.18.0)\n"
          ],
          "name": "stdout"
        }
      ]
    },
    {
      "cell_type": "code",
      "metadata": {
        "id": "YL0SyjRb1xxO"
      },
      "source": [
        "import numpy as np\n",
        "import time\n",
        "import matplotlib.pyplot as plt\n",
        "import pandas as pd\n",
        "from mlxtend.frequent_patterns import apriori, association_rules,fpgrowth\n",
        "from mlxtend.preprocessing import TransactionEncoder\n",
        "import csv"
      ],
      "execution_count": null,
      "outputs": []
    },
    {
      "cell_type": "markdown",
      "metadata": {
        "id": "7zGQrv3Bp8EO"
      },
      "source": [
        "# Apriori On chess"
      ]
    },
    {
      "cell_type": "code",
      "metadata": {
        "id": "gUGa8V3qp6pL"
      },
      "source": [
        "acc_list_of_arrays=[]\n",
        "with open('/content/chess.dat', 'r') as file:\n",
        "    dataset = csv.reader(file, delimiter=' ')\n",
        "    for row in dataset:\n",
        "        temp=[element for element in row]\n",
        "        temp= temp[:-1]\n",
        "        acc_list_of_arrays.append(temp)"
      ],
      "execution_count": null,
      "outputs": []
    },
    {
      "cell_type": "code",
      "metadata": {
        "colab": {
          "base_uri": "https://localhost:8080/"
        },
        "id": "pXi2cVsep6pN",
        "outputId": "1adb5b62-c28d-44ae-982d-3412684832f9"
      },
      "source": [
        "\n",
        "apc_times = list()\n",
        "apc_elements = list()\n",
        "minsupport = .6\n",
        "while minsupport <=1:\n",
        "  start = time.process_time()\n",
        "  te = TransactionEncoder()\n",
        "  te_ary = te.fit(acc_list_of_arrays).transform(acc_list_of_arrays)\n",
        "  df = pd.DataFrame(te_ary, columns=te.columns_)\n",
        "  result= apriori(df, min_support= minsupport, use_colnames=True)\n",
        "  apc_elements.append(minsupport)\n",
        "  end = time.process_time()\n",
        "  apc_times.append(end-start)\n",
        "  print (result)\n",
        "  # total time taken\n",
        "  print(f\"Runtime of the program is {end - start}\")\n",
        "  minsupport +=.05"
      ],
      "execution_count": null,
      "outputs": [
        {
          "output_type": "stream",
          "text": [
            "         support                                           itemsets\n",
            "0       0.666145                                               (11)\n",
            "1       0.633917                                               (15)\n",
            "2       0.782228                                               (17)\n",
            "3       0.619524                                               (19)\n",
            "4       0.696183                                               (21)\n",
            "...          ...                                                ...\n",
            "254939  0.600125  (58, 29, 66, 62, 60, 52, 48, 40, 9, 34, 5, 56,...\n",
            "254940  0.607009  (58, 29, 66, 62, 60, 52, 48, 40, 7, 9, 34, 56,...\n",
            "254941  0.601377  (58, 29, 66, 62, 60, 52, 40, 7, 9, 34, 5, 56, ...\n",
            "254942  0.611702  (58, 29, 66, 62, 60, 52, 48, 40, 7, 42, 34, 5,...\n",
            "254943  0.635795  (58, 29, 66, 62, 60, 52, 48, 40, 7, 9, 34, 5, ...\n",
            "\n",
            "[254944 rows x 2 columns]\n",
            "Runtime of the program is 33.803436774\n",
            "         support                                           itemsets\n",
            "0       0.666145                                               (11)\n",
            "1       0.782228                                               (17)\n",
            "2       0.696183                                               (21)\n",
            "3       0.894869                                               (25)\n",
            "4       0.689925                                               (27)\n",
            "...          ...                                                ...\n",
            "111234  0.656446  (58, 29, 66, 60, 52, 48, 40, 7, 9, 34, 5, 56, 36)\n",
            "111235  0.658010  (58, 29, 66, 62, 60, 52, 48, 40, 7, 9, 34, 5, 36)\n",
            "111236  0.666145  (58, 29, 66, 62, 60, 52, 48, 40, 7, 9, 34, 56,...\n",
            "111237  0.659887  (58, 29, 66, 62, 60, 52, 40, 7, 9, 34, 5, 56, 36)\n",
            "111238  0.652065  (58, 29, 66, 62, 60, 52, 48, 40, 7, 9, 5, 56, 36)\n",
            "\n",
            "[111239 rows x 2 columns]\n",
            "Runtime of the program is 12.591401212999997\n",
            "        support                                           itemsets\n",
            "0      0.782228                                               (17)\n",
            "1      0.894869                                               (25)\n",
            "2      0.995307                                               (29)\n",
            "3      0.888298                                                (3)\n",
            "4      0.790363                                               (31)\n",
            "...         ...                                                ...\n",
            "48726  0.705569     (58, 29, 66, 62, 60, 52, 48, 7, 34, 5, 56, 36)\n",
            "48727  0.710263     (58, 29, 66, 62, 60, 52, 48, 40, 7, 34, 5, 56)\n",
            "48728  0.720901     (58, 29, 66, 62, 60, 52, 48, 40, 7, 5, 56, 36)\n",
            "48729  0.702753     (58, 66, 62, 60, 52, 48, 40, 7, 34, 5, 56, 36)\n",
            "48730  0.702128  (58, 29, 66, 62, 60, 52, 48, 40, 7, 34, 5, 56,...\n",
            "\n",
            "[48731 rows x 2 columns]\n",
            "Runtime of the program is 5.0827095110000045\n",
            "        support                                     itemsets\n",
            "0      0.782228                                         (17)\n",
            "1      0.894869                                         (25)\n",
            "2      0.995307                                         (29)\n",
            "3      0.888298                                          (3)\n",
            "4      0.790363                                         (31)\n",
            "...         ...                                          ...\n",
            "20841  0.758135   (58, 29, 66, 62, 60, 52, 40, 7, 34, 5, 36)\n",
            "20842  0.761890  (58, 29, 66, 62, 60, 52, 40, 7, 34, 56, 36)\n",
            "20843  0.756571   (58, 29, 66, 62, 60, 52, 40, 7, 34, 5, 56)\n",
            "20844  0.755945   (58, 29, 66, 62, 60, 52, 48, 40, 7, 5, 36)\n",
            "20845  0.770025  (58, 29, 66, 62, 60, 52, 48, 40, 7, 56, 36)\n",
            "\n",
            "[20846 rows x 2 columns]\n",
            "Runtime of the program is 1.6859994090000043\n",
            "       support                                  itemsets\n",
            "0     0.894869                                      (25)\n",
            "1     0.995307                                      (29)\n",
            "2     0.888298                                       (3)\n",
            "3     0.951189                                      (34)\n",
            "4     0.969650                                      (36)\n",
            "...        ...                                       ...\n",
            "8222  0.806320       (58, 66, 62, 60, 52, 48, 40, 7, 36)\n",
            "8223  0.803191  (58, 29, 66, 62, 60, 52, 48, 40, 34, 36)\n",
            "8224  0.804130   (58, 29, 66, 60, 52, 48, 40, 7, 34, 36)\n",
            "8225  0.801627   (58, 29, 62, 60, 52, 48, 40, 7, 56, 36)\n",
            "8226  0.805069   (58, 29, 66, 62, 60, 52, 48, 40, 7, 36)\n",
            "\n",
            "[8227 rows x 2 columns]\n",
            "Runtime of the program is 0.7001121569999995\n",
            "       support                          itemsets\n",
            "0     0.894869                              (25)\n",
            "1     0.995307                              (29)\n",
            "2     0.888298                               (3)\n",
            "3     0.951189                              (34)\n",
            "4     0.969650                              (36)\n",
            "...        ...                               ...\n",
            "2664  0.866395   (58, 29, 66, 60, 52, 40, 7, 36)\n",
            "2665  0.850438   (58, 29, 66, 60, 52, 48, 40, 7)\n",
            "2666  0.853567  (58, 29, 66, 62, 60, 52, 40, 56)\n",
            "2667  0.860763   (58, 29, 62, 60, 52, 40, 7, 56)\n",
            "2668  0.859512   (58, 29, 66, 62, 60, 52, 40, 7)\n",
            "\n",
            "[2669 rows x 2 columns]\n",
            "Runtime of the program is 0.27906760900000194\n",
            "      support                      itemsets\n",
            "0    0.995307                          (29)\n",
            "1    0.951189                          (34)\n",
            "2    0.969650                          (36)\n",
            "3    0.991865                          (40)\n",
            "4    0.942741                          (48)\n",
            "..        ...                           ...\n",
            "617  0.906446       (58, 60, 52, 40, 7, 36)\n",
            "618  0.910513  (58, 29, 60, 52, 48, 40, 36)\n",
            "619  0.900501  (58, 29, 62, 60, 52, 40, 36)\n",
            "620  0.901126  (58, 29, 66, 60, 52, 40, 36)\n",
            "621  0.904255   (58, 29, 60, 52, 40, 7, 36)\n",
            "\n",
            "[622 rows x 2 columns]\n",
            "Runtime of the program is 0.10280579499999476\n",
            "     support              itemsets\n",
            "0   0.995307                  (29)\n",
            "1   0.951189                  (34)\n",
            "2   0.969650                  (36)\n",
            "3   0.991865                  (40)\n",
            "4   0.996558                  (52)\n",
            "..       ...                   ...\n",
            "72  0.951189      (52, 58, 36, 60)\n",
            "73  0.973717      (58, 40, 52, 60)\n",
            "74  0.950563       (58, 40, 7, 52)\n",
            "75  0.953066  (58, 29, 52, 40, 36)\n",
            "76  0.969650  (58, 29, 60, 52, 40)\n",
            "\n",
            "[77 rows x 2 columns]\n",
            "Runtime of the program is 0.0510999129999945\n"
          ],
          "name": "stdout"
        }
      ]
    },
    {
      "cell_type": "code",
      "metadata": {
        "id": "hg9VRv_-MCIw",
        "colab": {
          "base_uri": "https://localhost:8080/",
          "height": 280
        },
        "outputId": "928c23c1-7c05-43a9-f327-a750e114f164"
      },
      "source": [
        "plt.xlabel('Minimum Threshold')\n",
        "plt.ylabel('Time Complexity')\n",
        "plt.plot(apc_elements, apc_times, label ='Apriori')\n",
        "plt.grid()\n",
        "plt.legend()\n",
        "plt.savefig('AprioriChess.pdf',bbox_inches='tight')\n",
        "plt.show()\n"
      ],
      "execution_count": null,
      "outputs": [
        {
          "output_type": "display_data",
          "data": {
            "image/png": "[encoded data removed]",
            "text/plain": [
              "<Figure size 432x288 with 1 Axes>"
            ]
          },
          "metadata": {
            "tags": [],
            "needs_background": "light"
          }
        }
      ]
    },
    {
      "cell_type": "markdown",
      "metadata": {
        "id": "Y_Y42144qw8p"
      },
      "source": [
        "# FP-Growth on Chess"
      ]
    },
    {
      "cell_type": "code",
      "metadata": {
        "id": "ZQehzTRLqw8r"
      },
      "source": [
        "acc_list_of_arrays=[]\n",
        "with open('/content/chess.dat', 'r') as file:\n",
        "    dataset = csv.reader(file, delimiter=' ')\n",
        "    for row in dataset:\n",
        "        temp=[element for element in row]\n",
        "        acc_list_of_arrays.append(temp)"
      ],
      "execution_count": null,
      "outputs": []
    },
    {
      "cell_type": "code",
      "metadata": {
        "colab": {
          "base_uri": "https://localhost:8080/"
        },
        "id": "NDmngzHiqw8s",
        "outputId": "e7ea3e57-b94d-4577-e231-ba53d29507a8"
      },
      "source": [
        "\n",
        "fpc_times = list()\n",
        "fpc_elements = list()\n",
        "minsupport = .6\n",
        "while minsupport <=1:\n",
        "  start = time.process_time()\n",
        "  te = TransactionEncoder()\n",
        "  te_ary = te.fit(acc_list_of_arrays).transform(acc_list_of_arrays)\n",
        "  df = pd.DataFrame(te_ary, columns=te.columns_)\n",
        "  result= fpgrowth(df, min_support= minsupport, use_colnames=True)\n",
        "  fpc_elements.append(minsupport)\n",
        "  end = time.process_time()\n",
        "  fpc_times.append(end-start)\n",
        "  print (result)\n",
        "  # total time taken\n",
        "  print(f\"Runtime of the program is {end - start}\")\n",
        "  minsupport +=.05"
      ],
      "execution_count": null,
      "outputs": [
        {
          "output_type": "stream",
          "text": [
            "         support               itemsets\n",
            "0       1.000000                     ()\n",
            "1       0.999687                   (58)\n",
            "2       0.996558                   (52)\n",
            "3       0.995307                   (29)\n",
            "4       0.991865                   (40)\n",
            "...          ...                    ...\n",
            "509884  0.600751     (, 58, 62, 40, 50)\n",
            "509885  0.600751      (, 58, 62, 7, 50)\n",
            "509886  0.600751      (, 62, 40, 7, 50)\n",
            "509887  0.600751    (58, 62, 40, 7, 50)\n",
            "509888  0.600751  (, 58, 62, 40, 7, 50)\n",
            "\n",
            "[509889 rows x 2 columns]\n",
            "Runtime of the program is 10.561952008999995\n",
            "         support        itemsets\n",
            "0       1.000000              ()\n",
            "1       0.999687            (58)\n",
            "2       0.996558            (52)\n",
            "3       0.995307            (29)\n",
            "4       0.991865            (40)\n",
            "...          ...             ...\n",
            "222474  0.653630      (, 11, 60)\n",
            "222475  0.653317    (58, 11, 60)\n",
            "222476  0.650188    (52, 11, 60)\n",
            "222477  0.653317  (, 58, 11, 60)\n",
            "222478  0.650188  (, 52, 11, 60)\n",
            "\n",
            "[222479 rows x 2 columns]\n",
            "Runtime of the program is 5.013153832\n",
            "        support                       itemsets\n",
            "0      1.000000                             ()\n",
            "1      0.999687                           (58)\n",
            "2      0.996558                           (52)\n",
            "3      0.995307                           (29)\n",
            "4      0.991865                           (40)\n",
            "...         ...                            ...\n",
            "97458  0.702753      (, 58, 66, 60, 52, 7, 72)\n",
            "97459  0.702753      (, 58, 29, 66, 60, 7, 72)\n",
            "97460  0.702753      (, 29, 66, 60, 52, 7, 72)\n",
            "97461  0.702753    (58, 29, 66, 60, 52, 7, 72)\n",
            "97462  0.702753  (, 58, 29, 66, 60, 52, 7, 72)\n",
            "\n",
            "[97463 rows x 2 columns]\n",
            "Runtime of the program is 2.188415486000011\n",
            "        support        itemsets\n",
            "0      1.000000              ()\n",
            "1      0.999687            (58)\n",
            "2      0.996558            (52)\n",
            "3      0.995307            (29)\n",
            "4      0.991865            (40)\n",
            "...         ...             ...\n",
            "41688  0.751877    (17, 58, 36)\n",
            "41689  0.751877  (, 17, 58, 36)\n",
            "41690  0.753129          (, 74)\n",
            "41691  0.752816        (58, 74)\n",
            "41692  0.752816      (, 58, 74)\n",
            "\n",
            "[41693 rows x 2 columns]\n",
            "Runtime of the program is 0.8316998959999893\n",
            "        support                itemsets\n",
            "0      1.000000                      ()\n",
            "1      0.999687                    (58)\n",
            "2      0.996558                    (52)\n",
            "3      0.995307                    (29)\n",
            "4      0.991865                    (40)\n",
            "...         ...                     ...\n",
            "16450  0.800688    (58, 29, 52, 40, 44)\n",
            "16451  0.800688  (, 58, 29, 52, 40, 44)\n",
            "16452  0.802566              (, 44, 60)\n",
            "16453  0.802253            (58, 44, 60)\n",
            "16454  0.802253          (, 58, 44, 60)\n",
            "\n",
            "[16455 rows x 2 columns]\n",
            "Runtime of the program is 0.48558952899999497\n",
            "       support           itemsets\n",
            "0     1.000000                 ()\n",
            "1     0.999687               (58)\n",
            "2     0.996558               (52)\n",
            "3     0.995307               (29)\n",
            "4     0.991865               (40)\n",
            "...        ...                ...\n",
            "5334  0.852315        (3, 62, 29)\n",
            "5335  0.852315      (, 58, 62, 3)\n",
            "5336  0.852315      (, 62, 3, 29)\n",
            "5337  0.852315    (3, 58, 62, 29)\n",
            "5338  0.852315  (, 58, 29, 62, 3)\n",
            "\n",
            "[5339 rows x 2 columns]\n",
            "Runtime of the program is 0.22955180600000347\n",
            "       support           itemsets\n",
            "0     1.000000                 ()\n",
            "1     0.999687               (58)\n",
            "2     0.996558               (52)\n",
            "3     0.995307               (29)\n",
            "4     0.991865               (40)\n",
            "...        ...                ...\n",
            "1240  0.902378    (5, 58, 29, 34)\n",
            "1241  0.902378  (, 58, 29, 34, 5)\n",
            "1242  0.901126      (, 5, 52, 34)\n",
            "1243  0.900814    (5, 52, 58, 34)\n",
            "1244  0.900814  (, 58, 52, 34, 5)\n",
            "\n",
            "[1245 rows x 2 columns]\n",
            "Runtime of the program is 0.12701516099998855\n",
            "      support        itemsets\n",
            "0    1.000000              ()\n",
            "1    0.999687            (58)\n",
            "2    0.996558            (52)\n",
            "3    0.995307            (29)\n",
            "4    0.991865            (40)\n",
            "..        ...             ...\n",
            "150  0.952753    (58, 62, 29)\n",
            "151  0.952753  (, 58, 62, 29)\n",
            "152  0.951189          (, 34)\n",
            "153  0.950876        (58, 34)\n",
            "154  0.950876      (, 58, 34)\n",
            "\n",
            "[155 rows x 2 columns]\n",
            "Runtime of the program is 0.09963301499999488\n"
          ],
          "name": "stdout"
        }
      ]
    },
    {
      "cell_type": "code",
      "metadata": {
        "colab": {
          "base_uri": "https://localhost:8080/",
          "height": 279
        },
        "id": "D5k22An8qw8u",
        "outputId": "cd3cd415-8792-4ab2-8a58-0b5d64a3826d"
      },
      "source": [
        "plt.xlabel('Minimum Threshold')\n",
        "plt.ylabel('Time Complexity')\n",
        "plt.plot(fpc_elements, fpc_times, label ='Fp-Growth')\n",
        "plt.grid()\n",
        "plt.legend()\n",
        "plt.savefig('FpgrowthChess.pdf',bbox_inches='tight')\n",
        "plt.show()\n"
      ],
      "execution_count": null,
      "outputs": [
        {
          "output_type": "display_data",
          "data": {
            "image/png": "[encoded data removed]",
            "text/plain": [
              "<Figure size 432x288 with 1 Axes>"
            ]
          },
          "metadata": {
            "tags": [],
            "needs_background": "light"
          }
        }
      ]
    },
    {
      "cell_type": "code",
      "metadata": {
        "colab": {
          "base_uri": "https://localhost:8080/",
          "height": 280
        },
        "id": "Mpe4JNqzL5xG",
        "outputId": "e60dd731-c5b4-4874-d7f0-5f3c1d881442"
      },
      "source": [
        "plt.xlabel('Minimum Threshold')\n",
        "plt.ylabel('Time Complexity')\n",
        "plt.plot(apc_elements, apc_times, label ='Apriori')\n",
        "plt.plot(fpc_elements, fpc_times, label ='Fp-Growth')\n",
        "plt.grid()\n",
        "plt.legend()\n",
        "plt.savefig('chesscombine.pdf',bbox_inches='tight')\n",
        "plt.show()\n",
        "\n",
        "\n",
        "\n"
      ],
      "execution_count": null,
      "outputs": [
        {
          "output_type": "display_data",
          "data": {
            "image/png": "[encoded data removed]",
            "text/plain": [
              "<Figure size 432x288 with 1 Axes>"
            ]
          },
          "metadata": {
            "tags": [],
            "needs_background": "light"
          }
        }
      ]
    },
    {
      "cell_type": "code",
      "metadata": {
        "id": "SCPPiTRTMp-o",
        "colab": {
          "base_uri": "https://localhost:8080/",
          "height": 323
        },
        "outputId": "fc0b6a42-7474-4a60-eb26-f9779d968327"
      },
      "source": [
        "data={\"Apriori\":apc_times,\"Fp-Growth\":fpc_times}\n",
        "index = [0.6,0.65,0.70,0.75,0.80,0.85,0.90,0.95]\n",
        "dataFrame = pd.DataFrame(data=data, index=index);\n",
        "\n",
        "\n",
        "my_colors = ['lightseagreen','sandybrown']\n",
        "# Draw a vertical bar chart\n",
        "\n",
        "dataFrame.plot.bar(rot=15,color=my_colors);\n",
        "plt.legend(loc='upper center', bbox_to_anchor=(0.5, 1.2))\n",
        "plt.ylabel(\"Times Taken to Run The Algorithms\")\n",
        "plt.xlabel(\"Thresholds\")\n",
        "plt.savefig('Chess.pdf',bbox_inches='tight')\n",
        "\n",
        "plt.show(block=True);"
      ],
      "execution_count": null,
      "outputs": [
        {
          "output_type": "display_data",
          "data": {
            "image/png": "[encoded data removed]",
            "text/plain": [
              "<Figure size 432x288 with 1 Axes>"
            ]
          },
          "metadata": {
            "tags": [],
            "needs_background": "light"
          }
        }
      ]
    },
    {
      "cell_type": "code",
      "metadata": {
        "colab": {
          "base_uri": "https://localhost:8080/"
        },
        "id": "v-yn_FngOY6t",
        "outputId": "4215b7fa-668c-4943-8d61-7c65cc8258fd"
      },
      "source": [
        "apc_times"
      ],
      "execution_count": null,
      "outputs": [
        {
          "output_type": "execute_result",
          "data": {
            "text/plain": [
              "[33.803436774,\n",
              " 12.591401212999997,\n",
              " 5.0827095110000045,\n",
              " 1.6859994090000043,\n",
              " 0.7001121569999995,\n",
              " 0.27906760900000194,\n",
              " 0.10280579499999476,\n",
              " 0.0510999129999945]"
            ]
          },
          "metadata": {
            "tags": []
          },
          "execution_count": 11
        }
      ]
    },
    {
      "cell_type": "code",
      "metadata": {
        "id": "fVmYbAUuOdwd",
        "outputId": "391d5cfb-6ee8-446a-be34-1e655dcd107e",
        "colab": {
          "base_uri": "https://localhost:8080/"
        }
      },
      "source": [
        "fpc_times"
      ],
      "execution_count": null,
      "outputs": [
        {
          "output_type": "execute_result",
          "data": {
            "text/plain": [
              "[10.561952008999995,\n",
              " 5.013153832,\n",
              " 2.188415486000011,\n",
              " 0.8316998959999893,\n",
              " 0.48558952899999497,\n",
              " 0.22955180600000347,\n",
              " 0.12701516099998855,\n",
              " 0.09963301499999488]"
            ]
          },
          "metadata": {
            "tags": []
          },
          "execution_count": 12
        }
      ]
    },
    {
      "cell_type": "markdown",
      "metadata": {
        "id": "krJgZ24kqLj9"
      },
      "source": [
        "# Apriori on Kosarak"
      ]
    },
    {
      "cell_type": "code",
      "metadata": {
        "id": "XTJ1z-u5RlOZ"
      },
      "source": [
        "import numpy as np\n",
        "import time\n",
        "import matplotlib.pyplot as plt\n",
        "import pandas as pd\n",
        "from mlxtend.frequent_patterns import apriori, association_rules,fpgrowth\n",
        "from mlxtend.preprocessing import TransactionEncoder\n",
        "import csv"
      ],
      "execution_count": null,
      "outputs": []
    },
    {
      "cell_type": "code",
      "metadata": {
        "id": "Gla6HsNw4BYh"
      },
      "source": [
        "acc_list_of_arrays=[]\n",
        "with open('/content/kosarak.dat', 'r') as file:\n",
        "    dataset = csv.reader(file, delimiter=' ')\n",
        "    for row in dataset:\n",
        "        temp=[element for element in row]\n",
        "        #temp= temp[:-1]\n",
        "        acc_list_of_arrays.append(temp)"
      ],
      "execution_count": null,
      "outputs": []
    },
    {
      "cell_type": "code",
      "metadata": {
        "id": "7ylgvNtVLBL0"
      },
      "source": [
        "del acc_list_of_arrays[100000:]"
      ],
      "execution_count": null,
      "outputs": []
    },
    {
      "cell_type": "code",
      "metadata": {
        "colab": {
          "base_uri": "https://localhost:8080/"
        },
        "id": "BxD0Z9G9Mw1k",
        "outputId": "f8eb8f05-1dda-4a62-c946-060c0bb5f0ae"
      },
      "source": [
        "\n",
        "apk_times = list()\n",
        "apk_elements = list()\n",
        "minsupport = .1\n",
        "while minsupport <=.5:\n",
        "  start = time.process_time()\n",
        "  te = TransactionEncoder()\n",
        "  te_ary = te.fit(acc_list_of_arrays).transform(acc_list_of_arrays)\n",
        "  df = pd.DataFrame(te_ary, columns=te.columns_)\n",
        "\n",
        "  result= apriori(df, min_support= minsupport, use_colnames=True)\n",
        "  apk_elements.append(minsupport)\n",
        "  end = time.process_time()\n",
        "  apk_times.append(end-start)\n",
        "  print (result)\n",
        "  # total time taken\n",
        "  print(f\"Runtime of the program is {end - start}\")\n",
        "  minsupport +=.1"
      ],
      "execution_count": null,
      "outputs": [
        {
          "output_type": "stream",
          "text": [
            "   support    itemsets\n",
            "0  0.19860         (1)\n",
            "1  0.36525        (11)\n",
            "2  0.45682         (3)\n",
            "3  0.60690         (6)\n",
            "4  0.13310      (6, 1)\n",
            "5  0.16210     (11, 3)\n",
            "6  0.32517     (6, 11)\n",
            "7  0.26852      (6, 3)\n",
            "8  0.14415  (6, 11, 3)\n",
            "Runtime of the program is 2.942091855000001\n",
            "   support itemsets\n",
            "0  0.36525     (11)\n",
            "1  0.45682      (3)\n",
            "2  0.60690      (6)\n",
            "3  0.32517  (6, 11)\n",
            "4  0.26852   (6, 3)\n",
            "Runtime of the program is 2.8954853660000026\n",
            "   support itemsets\n",
            "0  0.36525     (11)\n",
            "1  0.45682      (3)\n",
            "2  0.60690      (6)\n",
            "3  0.32517  (6, 11)\n",
            "Runtime of the program is 2.884272203999984\n",
            "   support itemsets\n",
            "0  0.45682      (3)\n",
            "1  0.60690      (6)\n",
            "Runtime of the program is 2.8745537270000057\n",
            "   support itemsets\n",
            "0   0.6069      (6)\n",
            "Runtime of the program is 2.834903075999989\n"
          ],
          "name": "stdout"
        }
      ]
    },
    {
      "cell_type": "code",
      "metadata": {
        "colab": {
          "base_uri": "https://localhost:8080/",
          "height": 279
        },
        "id": "_c3yS_Vzqp4E",
        "outputId": "faa745ff-a622-4520-cb0c-a63548a26f55"
      },
      "source": [
        "plt.xlabel('Minimum Threshold')\n",
        "plt.ylabel('Time Complexity')\n",
        "plt.plot(apk_elements, apk_times, label ='Apriori')\n",
        "plt.grid()\n",
        "plt.legend()\n",
        "plt.savefig('Apriorikosarak.pdf',bbox_inches='tight')\n",
        "plt.show()\n"
      ],
      "execution_count": null,
      "outputs": [
        {
          "output_type": "display_data",
          "data": {
            "image/png": "[encoded data removed]",
            "text/plain": [
              "<Figure size 432x288 with 1 Axes>"
            ]
          },
          "metadata": {
            "tags": [],
            "needs_background": "light"
          }
        }
      ]
    },
    {
      "cell_type": "markdown",
      "metadata": {
        "id": "rbnCGZ7mqw8w"
      },
      "source": [
        "# FP-Growth on Kosarak"
      ]
    },
    {
      "cell_type": "code",
      "metadata": {
        "id": "Z1f-AFLjqw8x"
      },
      "source": [
        "acc_list_of_arrays=[]\n",
        "with open('/content/kosarak.dat', 'r') as file:\n",
        "    dataset = csv.reader(file, delimiter=' ')\n",
        "    for row in dataset:\n",
        "        temp=[element for element in row]\n",
        "        acc_list_of_arrays.append(temp)"
      ],
      "execution_count": null,
      "outputs": []
    },
    {
      "cell_type": "code",
      "metadata": {
        "id": "Z0RLl1CCqw8y"
      },
      "source": [
        "del acc_list_of_arrays[100000:]"
      ],
      "execution_count": null,
      "outputs": []
    },
    {
      "cell_type": "code",
      "metadata": {
        "colab": {
          "base_uri": "https://localhost:8080/"
        },
        "id": "LExfa7jPqw80",
        "outputId": "ad8196cc-3514-4c50-a59e-5d186fe32692"
      },
      "source": [
        "\n",
        "fpk_times = list()\n",
        "fpk_elements = list()\n",
        "minsupport = .1\n",
        "while minsupport <=.5:\n",
        "\n",
        "  te = TransactionEncoder()\n",
        "  te_ary = te.fit(acc_list_of_arrays).transform(acc_list_of_arrays)\n",
        "  df = pd.DataFrame(te_ary, columns=te.columns_)\n",
        "  start = time.process_time()\n",
        "  result= fpgrowth(df, min_support= minsupport, use_colnames=True)\n",
        "  fpk_elements.append(minsupport)\n",
        "  end = time.process_time()\n",
        "  fpk_times.append(end-start)\n",
        "  print (result)\n",
        "  # total time taken\n",
        "  print(f\"Runtime of the program is {end - start}\")\n",
        "  minsupport +=.1"
      ],
      "execution_count": null,
      "outputs": [
        {
          "output_type": "stream",
          "text": [
            "   support    itemsets\n",
            "0  0.45682         (3)\n",
            "1  0.19860         (1)\n",
            "2  0.60690         (6)\n",
            "3  0.36525        (11)\n",
            "4  0.26852      (6, 3)\n",
            "5  0.13310      (6, 1)\n",
            "6  0.32517     (6, 11)\n",
            "7  0.16210     (11, 3)\n",
            "8  0.14415  (6, 11, 3)\n",
            "Runtime of the program is 3.239374801999986\n",
            "   support itemsets\n",
            "0  0.45682      (3)\n",
            "1  0.60690      (6)\n",
            "2  0.36525     (11)\n",
            "3  0.26852   (6, 3)\n",
            "4  0.32517  (6, 11)\n",
            "Runtime of the program is 3.1805563000000063\n",
            "   support itemsets\n",
            "0  0.45682      (3)\n",
            "1  0.60690      (6)\n",
            "2  0.36525     (11)\n",
            "3  0.32517  (6, 11)\n",
            "Runtime of the program is 3.1785961430000214\n",
            "   support itemsets\n",
            "0  0.45682      (3)\n",
            "1  0.60690      (6)\n",
            "Runtime of the program is 3.17373386700001\n",
            "   support itemsets\n",
            "0   0.6069      (6)\n",
            "Runtime of the program is 3.1299930559999893\n"
          ],
          "name": "stdout"
        }
      ]
    },
    {
      "cell_type": "code",
      "metadata": {
        "colab": {
          "base_uri": "https://localhost:8080/",
          "height": 279
        },
        "id": "v9e85gn5qw80",
        "outputId": "b6b727d5-4b2a-4762-c63c-56a922e88648"
      },
      "source": [
        "plt.xlabel('Minimum Threshold')\n",
        "plt.ylabel('Time Complexity')\n",
        "plt.plot(fpk_elements, fpk_times, label ='Fp-Growth')\n",
        "plt.grid()\n",
        "plt.legend()\n",
        "plt.savefig('fpgrowthkosarak.pdf',bbox_inches='tight')\n",
        "plt.show()\n"
      ],
      "execution_count": null,
      "outputs": [
        {
          "output_type": "display_data",
          "data": {
            "image/png": "[encoded data removed]",
            "text/plain": [
              "<Figure size 432x288 with 1 Axes>"
            ]
          },
          "metadata": {
            "tags": [],
            "needs_background": "light"
          }
        }
      ]
    },
    {
      "cell_type": "code",
      "metadata": {
        "id": "JbvadM09_6tc",
        "colab": {
          "base_uri": "https://localhost:8080/",
          "height": 279
        },
        "outputId": "af071f4d-e06a-44f4-8013-6ada06de19a9"
      },
      "source": [
        "plt.xlabel('Minimum Threshold')\n",
        "plt.ylabel('Time Complexity')\n",
        "plt.plot(apk_elements, apk_times, label ='Apriori')\n",
        "plt.plot(fpk_elements, fpk_times, label ='Fp-Growth')\n",
        "plt.grid()\n",
        "plt.legend()\n",
        "plt.savefig('kosarakcombine.pdf',bbox_inches='tight')\n",
        "plt.show()"
      ],
      "execution_count": null,
      "outputs": [
        {
          "output_type": "display_data",
          "data": {
            "image/png": "[encoded data removed]",
            "text/plain": [
              "<Figure size 432x288 with 1 Axes>"
            ]
          },
          "metadata": {
            "tags": [],
            "needs_background": "light"
          }
        }
      ]
    },
    {
      "cell_type": "code",
      "metadata": {
        "id": "wlS91cVq4Cr4",
        "colab": {
          "base_uri": "https://localhost:8080/",
          "height": 322
        },
        "outputId": "00a3be0a-9b34-447c-8227-423176b72ad6"
      },
      "source": [
        "data={\"Apriori\":apk_times,\"Fp-Growth\":fpk_times}\n",
        "index = [0.1,0.2,0.3,0.4,0.5]\n",
        "dataFrame = pd.DataFrame(data=data, index=index);\n",
        "\n",
        "\n",
        "my_colors = ['lightseagreen','sandybrown']\n",
        "# Draw a vertical bar chart\n",
        "\n",
        "dataFrame.plot.bar(rot=15,color=my_colors);\n",
        "plt.legend(loc='upper center', bbox_to_anchor=(0.5, 1.2))\n",
        "plt.ylabel(\"Times Taken to Run Fp Growth Algorithm\")\n",
        "plt.xlabel(\"Thresholds\")\n",
        "plt.savefig('Kosarak.pdf',bbox_inches='tight')\n",
        "\n",
        "plt.show(block=True);"
      ],
      "execution_count": null,
      "outputs": [
        {
          "output_type": "display_data",
          "data": {
            "image/png": "[encoded data removed]",
            "text/plain": [
              "<Figure size 432x288 with 1 Axes>"
            ]
          },
          "metadata": {
            "tags": [],
            "needs_background": "light"
          }
        }
      ]
    }
  ]
}